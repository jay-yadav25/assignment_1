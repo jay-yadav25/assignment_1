{
  "nbformat": 4,
  "nbformat_minor": 0,
  "metadata": {
    "colab": {
      "provenance": []
    },
    "kernelspec": {
      "name": "python3",
      "display_name": "Python 3"
    },
    "language_info": {
      "name": "python"
    }
  },
  "cells": [
    {
      "cell_type": "markdown",
      "source": [
        "Q1. Which keyword is used to create a function? Create a function to return a list of odd numbers in the\n",
        "range of 1 to 25."
      ],
      "metadata": {
        "id": "mR1vEd5UEZix"
      }
    },
    {
      "cell_type": "code",
      "execution_count": 6,
      "metadata": {
        "colab": {
          "base_uri": "https://localhost:8080/"
        },
        "id": "NPNkvK7LEAWx",
        "outputId": "20ec5bd9-b2b2-4aa6-e590-dae4d7119b9f"
      },
      "outputs": [
        {
          "output_type": "stream",
          "name": "stdout",
          "text": [
            "25\n",
            "0\n",
            "2\n",
            "4\n",
            "6\n",
            "8\n",
            "10\n",
            "12\n",
            "14\n",
            "16\n",
            "18\n",
            "20\n",
            "22\n",
            "24\n"
          ]
        }
      ],
      "source": [
        "#def is used to create a function\n",
        "j=int(input())\n",
        "def odd(j):\n",
        "  for i in range(j):\n",
        "    if i%2==0:\n",
        "      print(i)\n",
        "odd(j+1)\n"
      ]
    },
    {
      "cell_type": "markdown",
      "source": [
        "Q2. Why *args and **kwargs is used in some functions? Create a function each for *args and **kwargs\n",
        "to demonstrate their use."
      ],
      "metadata": {
        "id": "bjaiORpcGJNh"
      }
    },
    {
      "cell_type": "code",
      "source": [
        "#*args and *kwargs is to take multiple input in a function\n",
        "def jay(*args):\n",
        "  return args\n",
        "jay(2,3,4,5,6)"
      ],
      "metadata": {
        "colab": {
          "base_uri": "https://localhost:8080/"
        },
        "id": "4rD3xOFcFId0",
        "outputId": "c07b9369-f6f2-4472-9444-3331a6d0c632"
      },
      "execution_count": 7,
      "outputs": [
        {
          "output_type": "execute_result",
          "data": {
            "text/plain": [
              "(2, 3, 4, 5, 6)"
            ]
          },
          "metadata": {},
          "execution_count": 7
        }
      ]
    },
    {
      "cell_type": "code",
      "source": [
        "def jay(**kwargs):\n",
        "  return kwargs\n",
        "jay(a=4,b=3,c=[1,2,3,4])"
      ],
      "metadata": {
        "colab": {
          "base_uri": "https://localhost:8080/"
        },
        "id": "w4gv7hqvG-AI",
        "outputId": "dea8d47d-854a-4df8-f2a5-8a39d77d6408"
      },
      "execution_count": 8,
      "outputs": [
        {
          "output_type": "execute_result",
          "data": {
            "text/plain": [
              "{'a': 4, 'b': 3, 'c': [1, 2, 3, 4]}"
            ]
          },
          "metadata": {},
          "execution_count": 8
        }
      ]
    },
    {
      "cell_type": "markdown",
      "source": [
        "Q3. What is an iterator in python? Name the method used to initialise the iterator object and the method\n",
        "used for iteration. Use these methods to print the first five elements of the given list [2, 4, 6, 8, 10, 12, 14,\n",
        "16, 18, 20]."
      ],
      "metadata": {
        "id": "UtP3apdSHnVF"
      }
    },
    {
      "cell_type": "code",
      "source": [
        "#An iterator in Python is an object that is used to iterate over iterable objects like lists, tuples, dicts, and sets.\n",
        "#iter() is used to iterate\n",
        "list= [2, 4, 6, 8, 10, 12, 14, 16, 18, 20]\n",
        "j=iter(list)\n",
        "for i in range(5):\n",
        "  print(next(j))"
      ],
      "metadata": {
        "colab": {
          "base_uri": "https://localhost:8080/"
        },
        "id": "efGkTnU7Hxlj",
        "outputId": "d82f4aee-ef47-472e-f00d-db3d872402f4"
      },
      "execution_count": 12,
      "outputs": [
        {
          "output_type": "stream",
          "name": "stdout",
          "text": [
            "2\n",
            "4\n",
            "6\n",
            "8\n",
            "10\n"
          ]
        }
      ]
    },
    {
      "cell_type": "markdown",
      "source": [
        "Q4. What is a generator function in python? Why yield keyword is used? Give an example of a generator\n",
        "function."
      ],
      "metadata": {
        "id": "g3i4nZPKXO84"
      }
    },
    {
      "cell_type": "code",
      "source": [
        "#Generators are useful when we want to produce a large sequence of values, but we don't want to store all of them in memory at once.\n",
        "#yield is used to generate the object\n",
        "n=5\n",
        "def jay(n):\n",
        "  yield n**3\n",
        "for i in jay(n):\n",
        "  print(i)"
      ],
      "metadata": {
        "colab": {
          "base_uri": "https://localhost:8080/"
        },
        "id": "HG8oeJ_kWnDo",
        "outputId": "8251604a-21a7-4605-cb94-720f03da7523"
      },
      "execution_count": 16,
      "outputs": [
        {
          "output_type": "stream",
          "name": "stdout",
          "text": [
            "125\n"
          ]
        }
      ]
    },
    {
      "cell_type": "markdown",
      "source": [
        "Q5. Create a generator function for prime numbers less than 1000. Use the next() method to print the\n",
        "first 20 prime numbers."
      ],
      "metadata": {
        "id": "BDooNgHYZ02L"
      }
    },
    {
      "cell_type": "code",
      "source": [
        "\n",
        "def is_prime(n):\n",
        "    if n <= 1:\n",
        "        return False\n",
        "    for i in range(2, int(n**0.5) + 1):\n",
        "        if n % i == 0:\n",
        "            return False\n",
        "    return True\n",
        "n=1\n",
        "def prime_nums_generator():\n",
        "    for n in range(1000):\n",
        "        if is_prime(n):\n",
        "            yield n\n",
        "        n += 1\n",
        "m=int(input(\"Enter no of prime you want..?\"))\n",
        "primes = prime_nums_generator()\n",
        "for _ in range(m):\n",
        "    print(next(primes))"
      ],
      "metadata": {
        "colab": {
          "base_uri": "https://localhost:8080/"
        },
        "id": "LQieqTqvYcxD",
        "outputId": "01e2f310-4c69-4f62-e851-a38a8dee0434"
      },
      "execution_count": 45,
      "outputs": [
        {
          "output_type": "stream",
          "name": "stdout",
          "text": [
            "Enter no of prime you want..?20\n",
            "2\n",
            "3\n",
            "5\n",
            "7\n",
            "11\n",
            "13\n",
            "17\n",
            "19\n",
            "23\n",
            "29\n",
            "31\n",
            "37\n",
            "41\n",
            "43\n",
            "47\n",
            "53\n",
            "59\n",
            "61\n",
            "67\n",
            "71\n"
          ]
        }
      ]
    },
    {
      "cell_type": "markdown",
      "source": [
        "Q6. Write a python program to print the first 10 Fibonacci numbers using a while loop."
      ],
      "metadata": {
        "id": "WhdUEZN5k7gG"
      }
    },
    {
      "cell_type": "code",
      "source": [
        "n=0\n",
        "s=0\n",
        "f=1\n",
        "while n<10:\n",
        "  print(s)\n",
        "  j=s+f\n",
        "  s=f\n",
        "  f=j\n",
        "  n=n+1\n",
        ""
      ],
      "metadata": {
        "colab": {
          "base_uri": "https://localhost:8080/"
        },
        "id": "1a2P-hp6cAxb",
        "outputId": "12bbfb60-9dc5-4f36-fe31-3fad1f06f2a7"
      },
      "execution_count": 54,
      "outputs": [
        {
          "output_type": "stream",
          "name": "stdout",
          "text": [
            "0\n",
            "1\n",
            "1\n",
            "2\n",
            "3\n",
            "5\n",
            "8\n",
            "13\n",
            "21\n",
            "34\n"
          ]
        }
      ]
    },
    {
      "cell_type": "markdown",
      "source": [
        "Q7. Write a List Comprehension to iterate through the given string: ‘pwskills’.\n",
        "Expected output: ['p', 'w', 's', 'k', 'i', 'l', 'l', 's']"
      ],
      "metadata": {
        "id": "nuKlvFmwoSZm"
      }
    },
    {
      "cell_type": "code",
      "source": [
        "l1=[]\n",
        "string=\"pwskills\"\n",
        "iter(string)\n",
        "for i in range(len(string)):\n",
        "  l1.append(string[i])\n",
        "print(l1)\n",
        "\n",
        "\n"
      ],
      "metadata": {
        "colab": {
          "base_uri": "https://localhost:8080/"
        },
        "id": "Mwxexrhel_Cz",
        "outputId": "7197688b-0867-432f-c754-732163ec0802"
      },
      "execution_count": 60,
      "outputs": [
        {
          "output_type": "stream",
          "name": "stdout",
          "text": [
            "['p', 'w', 's', 'k', 'i', 'l', 'l', 's']\n"
          ]
        }
      ]
    },
    {
      "cell_type": "markdown",
      "source": [
        "Q8. Write a python program to check whether a given number is Palindrome or not using a while loop."
      ],
      "metadata": {
        "id": "_lRQS1W5qKie"
      }
    },
    {
      "cell_type": "code",
      "source": [
        "n=int(input())\n",
        "temp=n\n",
        "reverse=0\n",
        "while temp > 0:\n",
        "  remainder=temp%10\n",
        "  temp=temp//10\n",
        "  reverse=10*reverse+remainder\n",
        "if reverse==n:\n",
        "  print(\"given number is palindrome\")\n",
        "else:\n",
        "  print(\"Not a palindrome\")"
      ],
      "metadata": {
        "colab": {
          "base_uri": "https://localhost:8080/"
        },
        "id": "eNQ46uI5o3A7",
        "outputId": "7f902183-516e-4585-847a-ecb6cae1e7d9"
      },
      "execution_count": 64,
      "outputs": [
        {
          "output_type": "stream",
          "name": "stdout",
          "text": [
            "121\n",
            "given number is palindrome\n"
          ]
        }
      ]
    },
    {
      "cell_type": "markdown",
      "source": [
        "Q9. Write a code to print odd numbers from 1 to 100 using list comprehension.\n",
        "\n",
        "Note: Use a list comprehension to create a list from 1 to 100 and use another List comprehension to filter\n",
        "out odd numbers."
      ],
      "metadata": {
        "id": "MQiDvkeQv2Ap"
      }
    },
    {
      "cell_type": "code",
      "source": [
        "list1=[x for x  in range(100)]\n",
        "print(list1)\n",
        "j=filter(lambda x: x%2!=0,list1)\n",
        "l2=[]\n",
        "for i in j:\n",
        "  l2.append(i)\n",
        "print(l2)"
      ],
      "metadata": {
        "colab": {
          "base_uri": "https://localhost:8080/"
        },
        "id": "9xDU-8n8tITh",
        "outputId": "b8d59547-fd77-401b-f22b-01d8d7ed1a5c"
      },
      "execution_count": 81,
      "outputs": [
        {
          "output_type": "stream",
          "name": "stdout",
          "text": [
            "[0, 1, 2, 3, 4, 5, 6, 7, 8, 9, 10, 11, 12, 13, 14, 15, 16, 17, 18, 19, 20, 21, 22, 23, 24, 25, 26, 27, 28, 29, 30, 31, 32, 33, 34, 35, 36, 37, 38, 39, 40, 41, 42, 43, 44, 45, 46, 47, 48, 49, 50, 51, 52, 53, 54, 55, 56, 57, 58, 59, 60, 61, 62, 63, 64, 65, 66, 67, 68, 69, 70, 71, 72, 73, 74, 75, 76, 77, 78, 79, 80, 81, 82, 83, 84, 85, 86, 87, 88, 89, 90, 91, 92, 93, 94, 95, 96, 97, 98, 99]\n",
            "[1, 3, 5, 7, 9, 11, 13, 15, 17, 19, 21, 23, 25, 27, 29, 31, 33, 35, 37, 39, 41, 43, 45, 47, 49, 51, 53, 55, 57, 59, 61, 63, 65, 67, 69, 71, 73, 75, 77, 79, 81, 83, 85, 87, 89, 91, 93, 95, 97, 99]\n"
          ]
        }
      ]
    },
    {
      "cell_type": "code",
      "source": [],
      "metadata": {
        "id": "U6JIIf4yxCoJ"
      },
      "execution_count": null,
      "outputs": []
    }
  ]
}