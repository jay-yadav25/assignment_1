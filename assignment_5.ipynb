{
  "nbformat": 4,
  "nbformat_minor": 0,
  "metadata": {
    "colab": {
      "provenance": []
    },
    "kernelspec": {
      "name": "python3",
      "display_name": "Python 3"
    },
    "language_info": {
      "name": "python"
    }
  },
  "cells": [
    {
      "cell_type": "markdown",
      "source": [
        "Q1. Explain Class and Object with respect to Object-Oriented Programming. Give a suitable example."
      ],
      "metadata": {
        "id": "WfuGElaPTWC9"
      }
    },
    {
      "cell_type": "code",
      "execution_count": 3,
      "metadata": {
        "id": "mRkyMKr4TPo4",
        "colab": {
          "base_uri": "https://localhost:8080/",
          "height": 36
        },
        "outputId": "17481fe9-1f4a-4ab8-9ea6-6d8a624563b7"
      },
      "outputs": [
        {
          "output_type": "execute_result",
          "data": {
            "text/plain": [
              "'This is a class of DSA'"
            ],
            "application/vnd.google.colaboratory.intrinsic+json": {
              "type": "string"
            }
          },
          "metadata": {},
          "execution_count": 3
        }
      ],
      "source": [
        "\"\"\"A class is considered as a blueprint of objects. We can think of the class as a sketch (prototype) of a house. It contains all the details about the floors, doors, windows, etc. Based on these descriptions we build the house. House is the object.\"\"\"\n",
        "class jay:\n",
        "  def test(self):\n",
        "    return \"This is a class of DSA\"\n",
        "ajay=jay()\n",
        "ajay.test()\n"
      ]
    },
    {
      "cell_type": "markdown",
      "source": [
        "Q2. Name the four pillars of OOPs."
      ],
      "metadata": {
        "id": "XHizos-8TbGj"
      }
    },
    {
      "cell_type": "code",
      "source": [
        "#Polymorphism\n",
        "#Encapsulation\n",
        "#Abstraction\n",
        "#Inheritance"
      ],
      "metadata": {
        "id": "nc5OSl-gTha8"
      },
      "execution_count": null,
      "outputs": []
    },
    {
      "cell_type": "markdown",
      "source": [
        "Q3. Explain why the __init__() function is used. Give a suitable example."
      ],
      "metadata": {
        "id": "jZqd22eVTh5s"
      }
    },
    {
      "cell_type": "code",
      "source": [
        "#__init__ is worked similar to that of constructor.. it takes the argumenta\n",
        "class disc:\n",
        "  def __init__(self,mobile,name,sr_no):\n",
        "    self.mobile1=mobile\n",
        "    self.name1=name\n",
        "    self.sr_no1=sr_no\n",
        "\n",
        "  def get_details(self):\n",
        "    return self.mobile1,self.name1,self.sr_no1\n",
        "\n",
        "jay=disc(79797979797,\"jay\",231)\n",
        "jay.get_details()\n"
      ],
      "metadata": {
        "id": "yq-ybkhuTnOD",
        "colab": {
          "base_uri": "https://localhost:8080/"
        },
        "outputId": "697830cf-5488-4d79-c347-9ad5a11a6160"
      },
      "execution_count": 9,
      "outputs": [
        {
          "output_type": "execute_result",
          "data": {
            "text/plain": [
              "(79797979797, 'jay', 231)"
            ]
          },
          "metadata": {},
          "execution_count": 9
        }
      ]
    },
    {
      "cell_type": "markdown",
      "source": [
        "Q4. Why self is used in OOPs?"
      ],
      "metadata": {
        "id": "hFiWSM6uTqEe"
      }
    },
    {
      "cell_type": "code",
      "source": [
        "#Python uses the self parameter to refer to instance attributes and methods of the class\n",
        "#To bind with the class"
      ],
      "metadata": {
        "id": "vAsJjhVITrp_"
      },
      "execution_count": null,
      "outputs": []
    },
    {
      "cell_type": "markdown",
      "source": [
        "Q5. What is inheritance? Give an example for each type of inheritance."
      ],
      "metadata": {
        "id": "5cVK5vl-TsLV"
      }
    },
    {
      "cell_type": "code",
      "source": [
        "#mechanism of inheriting the properties of the base class to the child class.\n",
        "#single Inheritance\n",
        "class test1:\n",
        "  def first_class(self):\n",
        "    print(\"This is a first class\")\n",
        "\n",
        "class test2(test1):\n",
        "  def second_class(self):\n",
        "    print(\"This is a second class\")\n",
        "\n",
        "y=test2()\n",
        "y.first_class()\n",
        "y.second_class()\n"
      ],
      "metadata": {
        "id": "4ywGFU55TzAk",
        "colab": {
          "base_uri": "https://localhost:8080/"
        },
        "outputId": "3d447659-1b66-4e97-e97d-e86b8809c5d5"
      },
      "execution_count": 12,
      "outputs": [
        {
          "output_type": "stream",
          "name": "stdout",
          "text": [
            "This is a first class\n",
            "This is a second class\n"
          ]
        }
      ]
    },
    {
      "cell_type": "code",
      "source": [
        "#Multiple Inheritance\n",
        "\n",
        "class Mother:\n",
        "\tmothername = \"\"\n",
        "\n",
        "\tdef mother(self):\n",
        "\t\tprint(self.mothername)\n",
        "\n",
        "class Father:\n",
        "\tfathername = \"\"\n",
        "\n",
        "\tdef father(self):\n",
        "\t\tprint(self.fathername)\n",
        "\n",
        "\n",
        "class Son(Mother, Father):\n",
        "\tdef parents(self):\n",
        "\t\tprint(\"Father :\", self.fathername)\n",
        "\t\tprint(\"Mother :\", self.mothername)\n",
        "\n",
        "s1 = Son()\n",
        "s1.fathername = \"RAM\"\n",
        "s1.mothername = \"SITA\"\n",
        "s1.parents()\n"
      ],
      "metadata": {
        "colab": {
          "base_uri": "https://localhost:8080/"
        },
        "id": "6KKwCbgMxvr5",
        "outputId": "d5d31bc4-71d6-4d0c-d8c2-b95f7151a85a"
      },
      "execution_count": 11,
      "outputs": [
        {
          "output_type": "stream",
          "name": "stdout",
          "text": [
            "Father : RAM\n",
            "Mother : SITA\n"
          ]
        }
      ]
    },
    {
      "cell_type": "code",
      "source": [
        "#Multilevel Inheritance\n",
        "class test1:\n",
        "  def first_class(self):\n",
        "    print(\"This is a first class\")\n",
        "\n",
        "class test2(test1):\n",
        "  def second_class(self):\n",
        "    print(\"This is a second class\")\n",
        "\n",
        "class test3(test2):\n",
        "  def third_class(self):\n",
        "    print(\"This is a third class\")\n",
        "\n",
        "y=test3()\n",
        "y.first_class()\n",
        "y.second_class()\n",
        "y.third_class()\n"
      ],
      "metadata": {
        "colab": {
          "base_uri": "https://localhost:8080/"
        },
        "id": "INqy634hyiqU",
        "outputId": "ba9a649c-5da5-4f61-a8ff-ab79979b661b"
      },
      "execution_count": 13,
      "outputs": [
        {
          "output_type": "stream",
          "name": "stdout",
          "text": [
            "This is a first class\n",
            "This is a second class\n",
            "This is a third class\n"
          ]
        }
      ]
    },
    {
      "cell_type": "code",
      "source": [
        "\n",
        "# Hierarchical inheritance\n",
        "\n",
        "class Parent:\n",
        "\tdef func1(self):\n",
        "\t\tprint(\"This function is in parent class.\")\n",
        "\n",
        "class Child1(Parent):\n",
        "\tdef func2(self):\n",
        "\t\tprint(\"This function is in child 1.\")\n",
        "\n",
        "\n",
        "class Child2(Parent):\n",
        "\tdef func3(self):\n",
        "\t\tprint(\"This function is in child 2.\")\n",
        "\n",
        "object1 = Child1()\n",
        "object2 = Child2()\n",
        "object1.func1()\n",
        "object1.func2()\n",
        "object2.func1()\n",
        "object2.func3()\n"
      ],
      "metadata": {
        "colab": {
          "base_uri": "https://localhost:8080/"
        },
        "id": "LrbLuE6KzZ78",
        "outputId": "019b9b73-8d66-4bb2-ff07-68ee68e04a0e"
      },
      "execution_count": 15,
      "outputs": [
        {
          "output_type": "stream",
          "name": "stdout",
          "text": [
            "This function is in parent class.\n",
            "This function is in child 1.\n",
            "This function is in parent class.\n",
            "This function is in child 2.\n"
          ]
        }
      ]
    },
    {
      "cell_type": "code",
      "source": [
        "# hybrid inheritance\n",
        "\n",
        "\n",
        "class School:\n",
        "\tdef func1(self):\n",
        "\t\tprint(\"This function is in school.\")\n",
        "\n",
        "\n",
        "class Student1(School):\n",
        "\tdef func2(self):\n",
        "\t\tprint(\"This function is in student 1. \")\n",
        "\n",
        "\n",
        "class Student2(School):\n",
        "\tdef func3(self):\n",
        "\t\tprint(\"This function is in student 2.\")\n",
        "\n",
        "\n",
        "class Student3(Student1, School):\n",
        "\tdef func4(self):\n",
        "\t\tprint(\"This function is in student 3.\")\n",
        "\n",
        "\n",
        "object = Student3()\n",
        "object.func1()\n",
        "object.func2()\n"
      ],
      "metadata": {
        "colab": {
          "base_uri": "https://localhost:8080/"
        },
        "id": "gonX6tTMzCI7",
        "outputId": "a6317082-a883-4938-ae71-5acf52ded513"
      },
      "execution_count": 14,
      "outputs": [
        {
          "output_type": "stream",
          "name": "stdout",
          "text": [
            "This function is in school.\n",
            "This function is in student 1. \n"
          ]
        }
      ]
    },
    {
      "cell_type": "code",
      "source": [],
      "metadata": {
        "id": "fC0rZGaSzX11"
      },
      "execution_count": null,
      "outputs": []
    }
  ]
}