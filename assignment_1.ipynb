{
  "nbformat": 4,
  "nbformat_minor": 0,
  "metadata": {
    "colab": {
      "provenance": []
    },
    "kernelspec": {
      "name": "python3",
      "display_name": "Python 3"
    },
    "language_info": {
      "name": "python"
    }
  },
  "cells": [
    {
      "cell_type": "code",
      "execution_count": null,
      "metadata": {
        "colab": {
          "base_uri": "https://localhost:8080/"
        },
        "id": "J19TY2-cdHei",
        "outputId": "43a2f4ca-3439-4eae-e965-bb8c59fb1423"
      },
      "outputs": [
        {
          "output_type": "stream",
          "name": "stdout",
          "text": [
            "<class 'str'>\n",
            "<class 'list'>\n",
            "<class 'float'>\n",
            "<class 'tuple'>\n"
          ]
        }
      ],
      "source": [
        "#Q1 Create one variable\n",
        "j=\"JAY KUMAR\"    #string\n",
        "l=[1,2,32+4j,\"jay\"]  #List\n",
        "k=30.40            #Float\n",
        "m=(\"JAY KUMAR\",2,3,2+3j)  #Tuple\n",
        "print(type(j))\n",
        "print(type(l))\n",
        "print(type(k))\n",
        "print(type(m))"
      ]
    },
    {
      "cell_type": "code",
      "source": [
        "#Q2 Determine the type\n",
        "var1 =\"\"\n",
        "var2 =\"[ DS, ML,Python]\"\n",
        "var3 = [ \"DS\" ,\"ML\" , \"Python\" ]\n",
        "var4 = 1.\n",
        "print(type(var1))\n",
        "print(type(var2))\n",
        "print(type(var3))\n",
        "print(type(var4))"
      ],
      "metadata": {
        "colab": {
          "base_uri": "https://localhost:8080/"
        },
        "id": "vxFRHDj1f4bt",
        "outputId": "37011f9b-2d1c-4da9-9b74-fdccc6532180"
      },
      "execution_count": null,
      "outputs": [
        {
          "output_type": "stream",
          "name": "stdout",
          "text": [
            "<class 'str'>\n",
            "<class 'str'>\n",
            "<class 'list'>\n",
            "<class 'float'>\n"
          ]
        }
      ]
    },
    {
      "cell_type": "code",
      "source": [
        "#Q3. Explain the use of the following operators using an example:\n",
        "\n",
        "#(i)\t/\n",
        "a=20/3\n",
        "print(a)\n",
        "#(ii)\t%\n",
        "b=20%3\n",
        "print(b)\n",
        "#(iii)\t//\n",
        "c=20//3\n",
        "print(c)\n",
        "#(iv)\t**\n",
        "d=20**3\n",
        "print(d)"
      ],
      "metadata": {
        "colab": {
          "base_uri": "https://localhost:8080/"
        },
        "id": "11ZkL8beg1tN",
        "outputId": "7b81a8f0-e708-4239-f283-f89bba200c84"
      },
      "execution_count": null,
      "outputs": [
        {
          "output_type": "stream",
          "name": "stdout",
          "text": [
            "6.666666666666667\n",
            "2\n",
            "6\n",
            "8000\n"
          ]
        }
      ]
    },
    {
      "cell_type": "code",
      "source": [
        "\"\"\"Q4. Create a list of length 10 of your choice containing multiple types of data. Using for loop print the\n",
        "element and its data type.\"\"\"\n",
        "l=[1,2,2+3j,\"jay\",2.33,True,[1,2,\"jay\"],(3,4,5,2+3j),44,55]\n",
        "for j in l:\n",
        "  print(j)\n",
        "  print(type(j))\n",
        "\n"
      ],
      "metadata": {
        "colab": {
          "base_uri": "https://localhost:8080/"
        },
        "id": "SemDf9VIh9gY",
        "outputId": "933827ee-1b45-46c0-a254-baf27b50bd21"
      },
      "execution_count": null,
      "outputs": [
        {
          "output_type": "stream",
          "name": "stdout",
          "text": [
            "1\n",
            "<class 'int'>\n",
            "2\n",
            "<class 'int'>\n",
            "(2+3j)\n",
            "<class 'complex'>\n",
            "jay\n",
            "<class 'str'>\n",
            "2.33\n",
            "<class 'float'>\n",
            "True\n",
            "<class 'bool'>\n",
            "[1, 2, 'jay']\n",
            "<class 'list'>\n",
            "(3, 4, 5, (2+3j))\n",
            "<class 'tuple'>\n",
            "44\n",
            "<class 'int'>\n",
            "55\n",
            "<class 'int'>\n"
          ]
        }
      ]
    },
    {
      "cell_type": "code",
      "source": [
        "\"\"\"Q5. Using a while loop, verify if the number A is purely divisible by number B and if so then how many\n",
        "times it can be divisible\"\"\"\n",
        "a=int(input(\"Enter Value of A\"))\n",
        "b=int(input(\"Enter Value of B\"))\n",
        "i=0\n",
        "if a//b !=0:\n",
        "  print(\"A is Divisible by B\")\n",
        "  while a % b==0:\n",
        "    i=i+1\n",
        "    a=a//b\n",
        "  print(i)\n",
        "else:\n",
        "  print(\"A is Not Divisible by B\")\n"
      ],
      "metadata": {
        "colab": {
          "base_uri": "https://localhost:8080/"
        },
        "id": "0jKzR4VIi5n_",
        "outputId": "ec039dfe-0140-4acc-ec6a-24e995977418"
      },
      "execution_count": null,
      "outputs": [
        {
          "output_type": "stream",
          "name": "stdout",
          "text": [
            "Enter Value of A200\n",
            "Enter Value of B2\n",
            "A is Divisible by B\n",
            "3\n"
          ]
        }
      ]
    },
    {
      "cell_type": "code",
      "source": [
        "\"\"\"Q6. Create a list containing 25 int type data. Using for loop and if-else condition print if the element is\n",
        "divisible by 3 or not.\"\"\"\n",
        "n=0\n",
        "l=[]\n",
        "while n<25:\n",
        "  n+=1\n",
        "  m=int(input(\"Enter the value :\"))\n",
        "  l.append(m)\n",
        "print(l111)\n",
        "for i in range(len(l)):\n",
        "  print(l[i])\n",
        "  if l[i]%3 ==0:\n",
        "    print(\"element is divisible by 3\")\n",
        "  else:\n",
        "    print(\"element is not  divisible by 3\")\n"
      ],
      "metadata": {
        "colab": {
          "base_uri": "https://localhost:8080/"
        },
        "id": "siL6HejflzFx",
        "outputId": "48d6049d-6132-477f-f807-fa3aaeecdb85"
      },
      "execution_count": null,
      "outputs": [
        {
          "output_type": "stream",
          "name": "stdout",
          "text": [
            "Enter the value :1\n",
            "Enter the value :2\n",
            "Enter the value :3\n",
            "Enter the value :4\n",
            "Enter the value :5\n",
            "Enter the value :6\n",
            "Enter the value :7\n",
            "Enter the value :8\n",
            "Enter the value :9\n",
            "Enter the value :10\n",
            "Enter the value :11\n",
            "Enter the value :11\n",
            "Enter the value :12\n",
            "Enter the value :13\n",
            "Enter the value :15\n",
            "Enter the value :6\n",
            "Enter the value :11\n",
            "Enter the value :13\n",
            "Enter the value :2\n",
            "Enter the value :1\n",
            "Enter the value :22\n",
            "Enter the value :333\n",
            "Enter the value :444\n",
            "Enter the value :555\n",
            "Enter the value :666\n",
            "[1, 2, 3, 4, 5, 6, 7, 8, 9, 10, 11, 11, 12, 13, 15, 6, 11, 13, 2, 1, 22, 333, 444, 555, 666]\n",
            "1\n",
            "element is not  divisible by 3\n",
            "2\n",
            "element is not  divisible by 3\n",
            "3\n",
            "element is divisible by 3\n",
            "4\n",
            "element is not  divisible by 3\n",
            "5\n",
            "element is not  divisible by 3\n",
            "6\n",
            "element is divisible by 3\n",
            "7\n",
            "element is not  divisible by 3\n",
            "8\n",
            "element is not  divisible by 3\n",
            "9\n",
            "element is divisible by 3\n",
            "10\n",
            "element is not  divisible by 3\n",
            "11\n",
            "element is not  divisible by 3\n",
            "11\n",
            "element is not  divisible by 3\n",
            "12\n",
            "element is divisible by 3\n",
            "13\n",
            "element is not  divisible by 3\n",
            "15\n",
            "element is divisible by 3\n",
            "6\n",
            "element is divisible by 3\n",
            "11\n",
            "element is not  divisible by 3\n",
            "13\n",
            "element is not  divisible by 3\n",
            "2\n",
            "element is not  divisible by 3\n",
            "1\n",
            "element is not  divisible by 3\n",
            "22\n",
            "element is not  divisible by 3\n",
            "333\n",
            "element is divisible by 3\n",
            "444\n",
            "element is divisible by 3\n",
            "555\n",
            "element is divisible by 3\n",
            "666\n",
            "element is divisible by 3\n"
          ]
        }
      ]
    },
    {
      "cell_type": "code",
      "source": [
        "\"\"\"Q7. What do you understand about mutable and immutable data types? Give examples for both showing\n",
        "this property\"\"\"\n",
        "j=\"jaykumar yadav\"  #immutable\n",
        "#j[2]=l\n",
        "l=[1,2,3,4,5,\"jay\"]\n",
        "l[2]=\"kumar\"\n",
        "l\n",
        "m=(1,2,3,4,5,\"jay\")\n",
        "#m[2]=\"kumar\"\n",
        "print(j)\n",
        "print(l)\n",
        "print(m)"
      ],
      "metadata": {
        "colab": {
          "base_uri": "https://localhost:8080/"
        },
        "id": "YkRkQJw9xQCB",
        "outputId": "40276b7d-806a-4b85-a33d-84a5b3ed52f8"
      },
      "execution_count": 52,
      "outputs": [
        {
          "output_type": "stream",
          "name": "stdout",
          "text": [
            "jaykumar yadav\n",
            "[1, 2, 'kumar', 4, 5, 'jay']\n",
            "(1, 2, 3, 4, 5, 'jay')\n"
          ]
        }
      ]
    }
  ]
}