{
  "nbformat": 4,
  "nbformat_minor": 0,
  "metadata": {
    "colab": {
      "provenance": []
    },
    "kernelspec": {
      "name": "python3",
      "display_name": "Python 3"
    },
    "language_info": {
      "name": "python"
    }
  },
  "cells": [
    {
      "cell_type": "code",
      "source": [
        "#Q1. How do you comment code in Python? What are the different types of comments?\n",
        "#a=2  (line comment using \"#\")\n",
        "'''Multyline comment '''\n",
        "'multiline comment'\n",
        "'''multiline comment'''"
      ],
      "metadata": {
        "id": "vDOzw01N6RKD"
      },
      "execution_count": null,
      "outputs": []
    },
    {
      "cell_type": "code",
      "source": [
        "from posixpath import join\n",
        "#Q2. What are variables in Python? How do you declare and assign values to variables?\n",
        "\n",
        "#Variable is a string of characters and numbers associated with piece of information\n",
        "\n",
        "#declaration\n",
        "a=2\n",
        "b=True\n",
        "c=2.3\n",
        "d=1+1j\n",
        "print(a)\n",
        "print(b)\n",
        "print(c)\n",
        "print(d)"
      ],
      "metadata": {
        "colab": {
          "base_uri": "https://localhost:8080/"
        },
        "id": "IcPr9XoH9_Kc",
        "outputId": "325dee86-551d-42a6-d148-35e132130117"
      },
      "execution_count": 4,
      "outputs": [
        {
          "output_type": "stream",
          "name": "stdout",
          "text": [
            "2\n",
            "True\n",
            "2.3\n",
            "(1+1j)\n"
          ]
        }
      ]
    },
    {
      "cell_type": "code",
      "source": [
        "#Q3. How do you convert one data type to another in Python?\n",
        "#Typecasting\n",
        "a=5\n",
        "float(a)"
      ],
      "metadata": {
        "colab": {
          "base_uri": "https://localhost:8080/"
        },
        "id": "Lf0VV5l0-sTr",
        "outputId": "ea3af9a4-85f3-4d14-932e-07f9c8280ee5"
      },
      "execution_count": 5,
      "outputs": [
        {
          "output_type": "execute_result",
          "data": {
            "text/plain": [
              "5.0"
            ]
          },
          "metadata": {},
          "execution_count": 5
        }
      ]
    },
    {
      "cell_type": "code",
      "source": [
        "jay=44.20\n",
        "int(jay)"
      ],
      "metadata": {
        "colab": {
          "base_uri": "https://localhost:8080/"
        },
        "id": "VtY8L-k8_HI1",
        "outputId": "dcf440cf-526f-4d1a-f7ef-37d206b30c97"
      },
      "execution_count": 6,
      "outputs": [
        {
          "output_type": "execute_result",
          "data": {
            "text/plain": [
              "44"
            ]
          },
          "metadata": {},
          "execution_count": 6
        }
      ]
    },
    {
      "cell_type": "code",
      "source": [
        "j=True\n",
        "int(j)"
      ],
      "metadata": {
        "colab": {
          "base_uri": "https://localhost:8080/"
        },
        "id": "4XkkXlq3_Nyr",
        "outputId": "6b886b6f-92e9-46d1-ea79-6608241b9bfc"
      },
      "execution_count": 7,
      "outputs": [
        {
          "output_type": "execute_result",
          "data": {
            "text/plain": [
              "1"
            ]
          },
          "metadata": {},
          "execution_count": 7
        }
      ]
    },
    {
      "cell_type": "code",
      "source": [
        "#Q4. How do you write and execute a Python script from the command line?\n",
        "\n",
        "'''open a command line and type the word python followed by the path to your script file like this: python first_script.py Hello World! Then you hit the ENTER button from the keyboard,'''"
      ],
      "metadata": {
        "id": "Xe9p9ArA_Vfl"
      },
      "execution_count": null,
      "outputs": []
    },
    {
      "cell_type": "code",
      "source": [
        "#Q5. Given a list my_list = [1, 2, 3, 4, 5], write the code to slice the list and obtain the sub-list [2, 3].\n",
        "my_list = [1, 2, 3, 4, 5]\n",
        "my_list[1:3:1]"
      ],
      "metadata": {
        "colab": {
          "base_uri": "https://localhost:8080/"
        },
        "id": "hLcUmAeG_yQw",
        "outputId": "70262644-a3c0-4efe-da19-bf55ba0f1172"
      },
      "execution_count": 9,
      "outputs": [
        {
          "output_type": "execute_result",
          "data": {
            "text/plain": [
              "[2, 3]"
            ]
          },
          "metadata": {},
          "execution_count": 9
        }
      ]
    },
    {
      "cell_type": "code",
      "source": [
        "#Q6. What is a complex number in mathematics, and how is it represented in Python?\n",
        "\n",
        "'''Number containing imaginary and real values is called complex numbers'''\n",
        "#representation in Python\n",
        "a=1+4j #Here 1 is real value and 4 is imaginary ,\n",
        "a"
      ],
      "metadata": {
        "colab": {
          "base_uri": "https://localhost:8080/"
        },
        "id": "1OcZxvdrAKch",
        "outputId": "9f4dbdc7-b4c8-4f41-d20c-432e5ce6f300"
      },
      "execution_count": 11,
      "outputs": [
        {
          "output_type": "execute_result",
          "data": {
            "text/plain": [
              "(1+4j)"
            ]
          },
          "metadata": {},
          "execution_count": 11
        }
      ]
    },
    {
      "cell_type": "code",
      "source": [
        "#Q7. What is the correct way to declare a variable named age and assign the value 25 to it?\n",
        "age=25\n",
        "age"
      ],
      "metadata": {
        "colab": {
          "base_uri": "https://localhost:8080/"
        },
        "id": "GxgnX5o7Azfm",
        "outputId": "48d218f0-1cb7-4a45-ccb5-9b615724424a"
      },
      "execution_count": 12,
      "outputs": [
        {
          "output_type": "execute_result",
          "data": {
            "text/plain": [
              "25"
            ]
          },
          "metadata": {},
          "execution_count": 12
        }
      ]
    },
    {
      "cell_type": "code",
      "source": [
        "'''Q8. Declare a variable named price and assign the value 9.99 to it. What data type does this variable\n",
        "belong to?'''\n",
        "price=9.99\n",
        "type(price)"
      ],
      "metadata": {
        "colab": {
          "base_uri": "https://localhost:8080/"
        },
        "id": "iIxV-c8pBDuQ",
        "outputId": "45b8f5a4-9c9f-4682-cc99-51b0d7133117"
      },
      "execution_count": 13,
      "outputs": [
        {
          "output_type": "execute_result",
          "data": {
            "text/plain": [
              "float"
            ]
          },
          "metadata": {},
          "execution_count": 13
        }
      ]
    },
    {
      "cell_type": "code",
      "source": [
        "'''Q9. Create a variable named name and assign your full name to it as a string. How would you print the\n",
        "value of this variable?'''\n",
        "name=\"Jaykumar Yadav\"\n",
        "name"
      ],
      "metadata": {
        "colab": {
          "base_uri": "https://localhost:8080/",
          "height": 36
        },
        "id": "t_Vpj1PnBQNI",
        "outputId": "5176df79-5469-4ec8-8daa-5cc9391b5887"
      },
      "execution_count": 17,
      "outputs": [
        {
          "output_type": "execute_result",
          "data": {
            "text/plain": [
              "'Jaykumar Yadav'"
            ],
            "application/vnd.google.colaboratory.intrinsic+json": {
              "type": "string"
            }
          },
          "metadata": {},
          "execution_count": 17
        }
      ]
    },
    {
      "cell_type": "code",
      "source": [
        "#Q10. Given the string \"Hello, World!\", extract the substring \"World\".\n",
        "j=\"Hello, World!\"\n",
        "j[-6:-1]"
      ],
      "metadata": {
        "colab": {
          "base_uri": "https://localhost:8080/",
          "height": 36
        },
        "id": "U9lsnMbUBscM",
        "outputId": "cec099ab-bc76-4971-a352-7ef50e185750"
      },
      "execution_count": 20,
      "outputs": [
        {
          "output_type": "execute_result",
          "data": {
            "text/plain": [
              "'World'"
            ],
            "application/vnd.google.colaboratory.intrinsic+json": {
              "type": "string"
            }
          },
          "metadata": {},
          "execution_count": 20
        }
      ]
    },
    {
      "cell_type": "code",
      "source": [
        "'''Q11. Create a variable named \"is_student\" and assign it a boolean value indicating whether you are\n",
        "currently a student or not.'''\n",
        "is_student=True\n",
        "is_student"
      ],
      "metadata": {
        "colab": {
          "base_uri": "https://localhost:8080/"
        },
        "id": "Mt2v0XxoChm2",
        "outputId": "7d7b2142-cb36-478c-c0a4-3c8351068be0"
      },
      "execution_count": 21,
      "outputs": [
        {
          "output_type": "execute_result",
          "data": {
            "text/plain": [
              "True"
            ]
          },
          "metadata": {},
          "execution_count": 21
        }
      ]
    },
    {
      "cell_type": "code",
      "source": [],
      "metadata": {
        "id": "DuUggmH7DUhg"
      },
      "execution_count": null,
      "outputs": []
    }
  ]
}