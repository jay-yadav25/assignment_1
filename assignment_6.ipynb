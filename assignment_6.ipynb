{
  "nbformat": 4,
  "nbformat_minor": 0,
  "metadata": {
    "colab": {
      "provenance": []
    },
    "kernelspec": {
      "name": "python3",
      "display_name": "Python 3"
    },
    "language_info": {
      "name": "python"
    }
  },
  "cells": [
    {
      "cell_type": "markdown",
      "source": [
        "Q1, Create a vehicle class with an init method having instance variables as name_of_vehicle, max_speed\n",
        "and average_of_vehicle."
      ],
      "metadata": {
        "id": "Qwl_R5giTfO2"
      }
    },
    {
      "cell_type": "code",
      "execution_count": null,
      "metadata": {
        "colab": {
          "base_uri": "https://localhost:8080/"
        },
        "id": "-rkrrW8sTY7i",
        "outputId": "cb6abd4a-14c1-4f2c-87e3-ce15de705ca4"
      },
      "outputs": [
        {
          "output_type": "execute_result",
          "data": {
            "text/plain": [
              "('Thar', 120, 80)"
            ]
          },
          "metadata": {},
          "execution_count": 9
        }
      ],
      "source": [
        "class vehicle:\n",
        "  def __init__(self,name_of_vehicle, max_speed ,average_of_vehicle):\n",
        "    self.name_of_vehicle=name_of_vehicle\n",
        "    self.max_speed=max_speed\n",
        "    self.average_of_vehicle=average_of_vehicle\n",
        "\n",
        "  def get_detail(self):\n",
        "    return self.name_of_vehicle,self.max_speed,self.average_of_vehicle\n",
        "\n",
        "thar=vehicle(\"Thar\",120,80)\n",
        "thar.get_detail()\n"
      ]
    },
    {
      "cell_type": "markdown",
      "source": [
        "Q2. Create a child class car from the vehicle class created in Que 1, which will inherit the vehicle class.\n",
        "Create a method named seating_capacity which takes capacity as an argument and returns the name of\n",
        "the vehicle and its seating capacity."
      ],
      "metadata": {
        "id": "SrAZExxhTj03"
      }
    },
    {
      "cell_type": "code",
      "source": [
        "class car(vehicle):\n",
        "  def seating_capacity(self,capacity):\n",
        "    print(self.name_of_vehicle,capacity)\n",
        "\n",
        "suzuki=car(\"Suzuki\",120,80)\n",
        "suzuki.seating_capacity(200)"
      ],
      "metadata": {
        "colab": {
          "base_uri": "https://localhost:8080/"
        },
        "id": "gT66qZWPXLmo",
        "outputId": "318ac40d-6fd0-40ab-93ea-8646f0b6f471"
      },
      "execution_count": null,
      "outputs": [
        {
          "output_type": "stream",
          "name": "stdout",
          "text": [
            "Suzuki 200\n"
          ]
        }
      ]
    },
    {
      "cell_type": "markdown",
      "source": [
        "Q3. What is multiple inheritance? Write a python code to demonstrate multiple inheritance."
      ],
      "metadata": {
        "id": "MdLaFIIPXOcD"
      }
    },
    {
      "cell_type": "code",
      "source": [
        "# Object or class can inherit features from more than one parent t class.\n",
        "#Multiple Inheritance\n",
        "\n",
        "class Mother:\n",
        "\tmothername = \"\"\n",
        "\n",
        "\tdef mother(self):\n",
        "\t\tprint(self.mothername)\n",
        "\n",
        "class Father:\n",
        "\tfathername = \"\"\n",
        "\n",
        "\tdef father(self):\n",
        "\t\tprint(self.fathername)\n",
        "\n",
        "\n",
        "class Son(Mother, Father):\n",
        "\tdef parents(self):\n",
        "\t\tprint(\"Father :\", self.fathername)\n",
        "\t\tprint(\"Mother :\", self.mothername)\n",
        "\n",
        "s1 = Son()\n",
        "s1.fathername = \"RAM\"\n",
        "s1.mothername = \"SITA\"\n",
        "s1.parents()\n"
      ],
      "metadata": {
        "colab": {
          "base_uri": "https://localhost:8080/"
        },
        "id": "5kc1bXfgXPy5",
        "outputId": "e8e2e75d-93c1-4e44-baca-2b8450f0a0cd"
      },
      "execution_count": null,
      "outputs": [
        {
          "output_type": "stream",
          "name": "stdout",
          "text": [
            "Father : RAM\n",
            "Mother : SITA\n"
          ]
        }
      ]
    },
    {
      "cell_type": "markdown",
      "source": [
        "Q4. What are getter and setter in python? Create a class and create a getter and a setter method in this\n",
        "class."
      ],
      "metadata": {
        "id": "mYPgO5IHXSF_"
      }
    },
    {
      "cell_type": "code",
      "source": [
        "\"\"\"Getters and Setters in python are often used when:\"\"\"\n",
        "#We use getters & setters to add validation logic around getting and setting a value.\n",
        "#To avoid direct access of a class field i.e. private variables cannot be accessed directly or modified by external user.\n",
        "\n",
        "class jay:\n",
        "\tdef __init__(self, age = 0):\n",
        "\t\tself._age = age\n",
        "\n",
        "\t# getter method\n",
        "\tdef get_age(self):\n",
        "\t\treturn self._age\n",
        "\n",
        "\t# setter method\n",
        "\tdef set_age(self, x):\n",
        "\t\tself._age = x\n",
        "\n",
        "raj = jay()\n",
        "\n",
        "# setting the age using setter\n",
        "raj.set_age(21)\n",
        "\n",
        "# retrieving age using getter\n",
        "print(raj.get_age())\n",
        "\n",
        "print(raj._age)\n"
      ],
      "metadata": {
        "id": "kophEYpTXUxF",
        "colab": {
          "base_uri": "https://localhost:8080/"
        },
        "outputId": "65a68bba-9d14-4809-d22a-5288c0b963c3"
      },
      "execution_count": 8,
      "outputs": [
        {
          "output_type": "stream",
          "name": "stdout",
          "text": [
            "21\n",
            "21\n"
          ]
        }
      ]
    },
    {
      "cell_type": "markdown",
      "source": [
        "Q5.What is method overriding in python? Write a python code to demonstrate method overriding."
      ],
      "metadata": {
        "id": "6GmbBwCRXY8x"
      }
    },
    {
      "cell_type": "code",
      "source": [
        "\"\"\"Method overriding is an ability of any object-oriented programming language that allows a subclass or child class to provide a specific implementation of a method that is already provided by one of its super-classes or parent classes.\"\"\"\n",
        "class pwskills :\n",
        "\n",
        "    mobile_num = 9370729713\n",
        "\n",
        "    def __init__(self , name , email) :\n",
        "\n",
        "        self.name = name\n",
        "        self.email = email\n",
        "\n",
        "    @classmethod\n",
        "    def change_number(cls, mobile):\n",
        "        pwskills.mobile_num = mobile\n",
        "\n",
        "    @classmethod\n",
        "    def details(cls ,name, email ):\n",
        "        return cls(name , email)\n",
        "\n",
        "    def students_details(self):\n",
        "        print(self.name , self.email,pwskills.mobile_num)"
      ],
      "metadata": {
        "id": "NExNhZmfXayX"
      },
      "execution_count": 1,
      "outputs": []
    },
    {
      "cell_type": "code",
      "source": [
        "pwskills.change_number(98373737373)"
      ],
      "metadata": {
        "id": "3F3nBwHNUH41"
      },
      "execution_count": 3,
      "outputs": []
    },
    {
      "cell_type": "code",
      "source": [
        "jay=pwskills.details(\"jay\",\"jay@gmail.com\")\n",
        "jay.students_details()"
      ],
      "metadata": {
        "colab": {
          "base_uri": "https://localhost:8080/"
        },
        "id": "adNC4tfAUhJS",
        "outputId": "be5c864d-6ef4-4970-e9a7-3f3d9dc8e094"
      },
      "execution_count": 6,
      "outputs": [
        {
          "output_type": "stream",
          "name": "stdout",
          "text": [
            "jay jay@gmail.com 98373737373\n"
          ]
        }
      ]
    },
    {
      "cell_type": "code",
      "source": [],
      "metadata": {
        "id": "RaCs9rMiU6nH"
      },
      "execution_count": null,
      "outputs": []
    }
  ]
}