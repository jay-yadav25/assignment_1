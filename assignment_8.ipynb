{
  "nbformat": 4,
  "nbformat_minor": 0,
  "metadata": {
    "colab": {
      "provenance": []
    },
    "kernelspec": {
      "name": "python3",
      "display_name": "Python 3"
    },
    "language_info": {
      "name": "python"
    }
  },
  "cells": [
    {
      "cell_type": "markdown",
      "source": [
        "What is\n",
        "an Exception in python? Write the difference between Exceptions\n",
        "and syntax errors."
      ],
      "metadata": {
        "id": "ADTj6zqsU0yY"
      }
    },
    {
      "cell_type": "markdown",
      "source": [
        "In Python, an exception is an event that disrupts the normal flow of a program's execution. It occurs when the program encounters an error or an unexpected condition while running. Exceptions can be caused by various factors, such as invalid input, resource unavailability, mathematical errors, and more.\n",
        "\n",
        "**Nature of Occurrence:**\n",
        "\n",
        "Exceptions: Occur during the runtime (execution) of a program when a statement is being executed.\n",
        "Syntax Errors: Occur before the program is executed, during the parsing phase when the code's syntax is being checked.\n",
        "\n",
        "**Detection Time:**\n",
        "\n",
        "Exceptions: Detected while the program is running and specific conditions are met (e.g., dividing by zero, accessing an index out of range).\n",
        "Syntax Errors: Detected during the compilation or parsing phase before the program is executed.\n",
        "\n",
        "**Handling Mechanism:**\n",
        "\n",
        "Exceptions: Can be caught and handled using try, except, else, and finally blocks.\n",
        "\n",
        "Syntax Errors: Cannot be caught and handled using exception handling constructs. They must be fixed in the code before execution."
      ],
      "metadata": {
        "id": "ct5FLB_i6yNQ"
      }
    },
    {
      "cell_type": "markdown",
      "source": [
        "Q2. What happens when an exception is not handled? Explain with an example."
      ],
      "metadata": {
        "id": "Cu7EGZh64XRl"
      }
    },
    {
      "cell_type": "code",
      "source": [
        "#When an exception is not handled, it leads to an abrupt termination of the program.\n",
        "def divide(a, b):\n",
        "    return a / b\n",
        "\n",
        "result = divide(10, 0)\n",
        "print(\"Result:\", result)  # This line won't be reached due to the unhandled exception\n"
      ],
      "metadata": {
        "id": "UprU_FV84p4Y"
      },
      "execution_count": null,
      "outputs": []
    },
    {
      "cell_type": "markdown",
      "source": [
        "Q3. Which Python statements are used to, catch and handle exceptions?Explain with an example."
      ],
      "metadata": {
        "id": "yFzuGTWC4rIQ"
      }
    },
    {
      "cell_type": "code",
      "source": [
        "#In Python, the try and except statements are used to catch and handle exceptions.\n",
        "def divide(a, b):\n",
        "    try:\n",
        "        result = a / b\n",
        "        return result\n",
        "    except ZeroDivisionError:\n",
        "        print(\"Cannot divide by zero.\")\n",
        "        return None\n",
        "\n",
        "numerator = 10\n",
        "denominator = 0\n",
        "\n",
        "result = divide(numerator, denominator)\n",
        "\n",
        "if result is not None:\n",
        "    print(\"Result:\", result)\n"
      ],
      "metadata": {
        "colab": {
          "base_uri": "https://localhost:8080/"
        },
        "id": "-BxKVAlu5JZ3",
        "outputId": "298d065c-7520-4969-b038-c087f349d4a0"
      },
      "execution_count": 4,
      "outputs": [
        {
          "output_type": "stream",
          "name": "stdout",
          "text": [
            "Cannot divide by zero.\n"
          ]
        }
      ]
    },
    {
      "cell_type": "markdown",
      "source": [
        "Q4. Explain with an example:\n",
        "\n",
        "[1].try and else\n",
        "\n",
        "[2].finally\n",
        "\n",
        "[3].raise"
      ],
      "metadata": {
        "id": "_ClLxyfA5J_B"
      }
    },
    {
      "cell_type": "code",
      "source": [
        "#[1].try and else\n",
        "try:\n",
        "    number = int(input(\"Enter a number: \"))\n",
        "except ValueError:\n",
        "    print(\"Invalid input. Please enter a valid number.\")\n",
        "else:\n",
        "    print(\"You entered:\", number)\n"
      ],
      "metadata": {
        "colab": {
          "base_uri": "https://localhost:8080/"
        },
        "id": "CVLerirE8ivW",
        "outputId": "9f83d8a1-57f2-4bdd-a20b-5dd64f57f9eb"
      },
      "execution_count": 6,
      "outputs": [
        {
          "output_type": "stream",
          "name": "stdout",
          "text": [
            "Enter a number: st\n",
            "Invalid input. Please enter a valid number.\n"
          ]
        }
      ]
    },
    {
      "cell_type": "code",
      "source": [
        "#[2].finally\n",
        "file = None\n",
        "try:\n",
        "    file = open(\"example.txt\", \"r\")\n",
        "    content = file.read()\n",
        "except FileNotFoundError:\n",
        "    print(\"File not found.\")\n",
        "else:\n",
        "    print(\"Content:\", content)\n",
        "finally:\n",
        "    if file:\n",
        "        file.close()\n",
        "        print(\"File closed.\")"
      ],
      "metadata": {
        "colab": {
          "base_uri": "https://localhost:8080/"
        },
        "id": "0QJ4dY2N8ihY",
        "outputId": "6eae47c2-deb3-4fc6-f114-7d983bcc860a"
      },
      "execution_count": 13,
      "outputs": [
        {
          "output_type": "stream",
          "name": "stdout",
          "text": [
            "File not found.\n"
          ]
        }
      ]
    },
    {
      "cell_type": "code",
      "source": [
        "#[3].raise\n",
        "def divide(a, b):\n",
        "    if b == 0:\n",
        "        raise ValueError(\"Division by zero is not allowed.\")\n",
        "    return a / b\n",
        "\n",
        "try:\n",
        "    result = divide(10, 0)\n",
        "except ValueError as e:\n",
        "    print(\"Error:\", e)\n"
      ],
      "metadata": {
        "colab": {
          "base_uri": "https://localhost:8080/"
        },
        "id": "hdmEX0xn53LM",
        "outputId": "8f079609-cdab-44ee-ccd3-56dac28a7144"
      },
      "execution_count": 10,
      "outputs": [
        {
          "output_type": "stream",
          "name": "stdout",
          "text": [
            "Error: Division by zero is not allowed.\n"
          ]
        }
      ]
    },
    {
      "cell_type": "markdown",
      "source": [
        "Q5. What are Custom Exceptions in python? Why do we need Custom Exceptions? Explain with an example."
      ],
      "metadata": {
        "id": "KN2GzOlM53fj"
      }
    },
    {
      "cell_type": "markdown",
      "source": [
        "Custom exceptions, also known as user-defined exceptions, are exceptions that you create in Python to represent specific error conditions that are relevant to your application. While Python provides a wide range of built-in exceptions, there are cases where you might need to define your own exceptions to capture and handle errors that are unique to your codebase or domain.\n",
        "\n",
        "Custom exceptions allow you to.\n",
        "\n",
        "Provide Meaningful Context.\n",
        "\n",
        "Enhance Readability.\n",
        "\n",
        "Centralize Exception Handling.\n",
        "\n",
        "Layer-Specific Exceptions."
      ],
      "metadata": {
        "id": "jakcfSk_-ezK"
      }
    },
    {
      "cell_type": "code",
      "source": [
        "class BankException(Exception):\n",
        "    \"\"\"Base class for custom exceptions in the banking application.\"\"\"\n",
        "    pass\n",
        "\n",
        "class InsufficientFundsException(BankException):\n",
        "    \"\"\"Exception raised when an account has insufficient funds.\"\"\"\n",
        "    pass\n",
        "\n",
        "class Account:\n",
        "    def __init__(self, balance):\n",
        "        self.balance = balance\n",
        "\n",
        "    def withdraw(self, amount):\n",
        "        if amount > self.balance:\n",
        "            raise InsufficientFundsException(\"Insufficient funds in the account.\")\n",
        "        self.balance -= amount\n",
        "        return self.balance\n",
        "\n",
        "try:\n",
        "    account = Account(1000)\n",
        "    amount_to_withdraw = 1500\n",
        "    new_balance = account.withdraw(amount_to_withdraw)\n",
        "except InsufficientFundsException as e:\n",
        "    print(\"Error:\", e)\n",
        "else:\n",
        "    print(\"Withdrawal successful. New balance:\", new_balance)\n"
      ],
      "metadata": {
        "colab": {
          "base_uri": "https://localhost:8080/"
        },
        "id": "m0wBtIl86OmV",
        "outputId": "5043b952-f549-4154-8a05-990d3d271741"
      },
      "execution_count": 14,
      "outputs": [
        {
          "output_type": "stream",
          "name": "stdout",
          "text": [
            "Error: Insufficient funds in the account.\n"
          ]
        }
      ]
    },
    {
      "cell_type": "markdown",
      "source": [
        "Q6. Crete custom exception clss. Use this clss to handle an exeption."
      ],
      "metadata": {
        "id": "DAwv08b26PAb"
      }
    },
    {
      "cell_type": "code",
      "source": [
        "class MyCustomException(Exception):\n",
        "    \"\"\"Custom exception class for demonstrating purposes.\"\"\"\n",
        "    pass\n",
        "\n",
        "def check_number(number):\n",
        "    if number < 0:\n",
        "        raise MyCustomException(\"Negative numbers are not allowed.\")\n",
        "\n",
        "try:\n",
        "    user_input = int(input(\"Enter a positive number: \"))\n",
        "    check_number(user_input)\n",
        "    print(\"Input is valid:\", user_input)\n",
        "except MyCustomException as e:\n",
        "    print(\"Custom Exception:\", e)\n",
        "except ValueError:\n",
        "    print(\"Invalid input. Please enter a valid number.\")\n"
      ],
      "metadata": {
        "colab": {
          "base_uri": "https://localhost:8080/"
        },
        "id": "4QEc2N5u6dGe",
        "outputId": "20cf0970-5faa-406e-9cea-f2d66ac26488"
      },
      "execution_count": 15,
      "outputs": [
        {
          "output_type": "stream",
          "name": "stdout",
          "text": [
            "Enter a positive number: -3\n",
            "Custom Exception: Negative numbers are not allowed.\n"
          ]
        }
      ]
    }
  ]
}