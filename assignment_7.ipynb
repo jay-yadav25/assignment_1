{
  "nbformat": 4,
  "nbformat_minor": 0,
  "metadata": {
    "colab": {
      "provenance": []
    },
    "kernelspec": {
      "name": "python3",
      "display_name": "Python 3"
    },
    "language_info": {
      "name": "python"
    }
  },
  "cells": [
    {
      "cell_type": "markdown",
      "source": [
        "Q1. What is Abstraction in OOps? Explain with an example."
      ],
      "metadata": {
        "id": "Am_JbsTvZF13"
      }
    },
    {
      "cell_type": "code",
      "execution_count": 3,
      "metadata": {
        "id": "Tg5mX_RtY-rL"
      },
      "outputs": [],
      "source": [
        "#Abstraction refers to the process of hiding the details and showcasing essential information to the user.\n",
        "import abc\n",
        "class pwskills:\n",
        "\n",
        "    @abc.abstractmethod\n",
        "    def students_detials(self):\n",
        "        pass\n",
        "\n",
        "    @abc.abstractmethod\n",
        "    def student_assignemnt(self):\n",
        "        pass\n",
        "\n",
        "    @abc.abstractmethod\n",
        "    def student_marks(self):\n",
        "        pass"
      ]
    },
    {
      "cell_type": "code",
      "source": [
        "class student_detils(pwskills):\n",
        "\n",
        "    def students_detials(self):\n",
        "        return \"this is a meth for taking students details\"\n",
        "\n",
        "    def student_assignemnt(self):\n",
        "        return \"this is a meth for assing details for a perticualt student\"\n",
        "\n",
        "class student_detils(pwskills):\n",
        "\n",
        "    def students_detials(self):\n",
        "        return \"this is a meth for taking students details\"\n",
        "\n",
        "    def student_assignemnt(self):\n",
        "        return \"this is a meth for assing details for a perticualt student\"\n",
        "\n",
        "class data_science_maters(pwskills):\n",
        "\n",
        "    def students_detials(self):\n",
        "        return \"this will return a student details for data science masters \"\n",
        "\n",
        "    def student_assignemnt(self):\n",
        "        return \"this will give you a studnt assignment detaild for data science masters \""
      ],
      "metadata": {
        "id": "Qo0svS-6gU1P"
      },
      "execution_count": 4,
      "outputs": []
    },
    {
      "cell_type": "code",
      "source": [
        "dsm = data_science_maters()\n",
        "dsm.students_detials()"
      ],
      "metadata": {
        "colab": {
          "base_uri": "https://localhost:8080/",
          "height": 36
        },
        "id": "HtOMPpAdgjiY",
        "outputId": "034866b5-4848-4738-bc57-ef42238b5a49"
      },
      "execution_count": 5,
      "outputs": [
        {
          "output_type": "execute_result",
          "data": {
            "text/plain": [
              "'this will return a student details for data science masters '"
            ],
            "application/vnd.google.colaboratory.intrinsic+json": {
              "type": "string"
            }
          },
          "metadata": {},
          "execution_count": 5
        }
      ]
    },
    {
      "cell_type": "markdown",
      "source": [
        "Q2. Differentiate between Abstraction and Encapsulation. Explain with an example."
      ],
      "metadata": {
        "id": "jzqFgHxqZI5s"
      }
    },
    {
      "cell_type": "code",
      "source": [
        "\"\"\"Abstraction is a way of representing some specific data. Encapsulation is a way of hiding the complexity of something and exposing only the parts you wish to expose. For example, if you have a class that has one or more private fields that you use to store the data, then you are in encapsulation.\"\"\"\n",
        "\n",
        "#For Abstraction refer Q1\n",
        "class Base:\n",
        "\tdef __init__(self):\n",
        "\n",
        "\t\t# Protected member\n",
        "\t\tself._a = 2\n",
        "\n",
        "class Derived(Base):\n",
        "\tdef __init__(self):\n",
        "\n",
        "\t\tBase.__init__(self)\n",
        "\t\tprint(\"Calling protected member of base class: \",self._a)\n",
        "\n",
        "\t\tself._a = 3\n",
        "\t\tprint(\"Calling modified protected member outside class: \",self._a)\n",
        "\n",
        "\n",
        "obj1 = Derived()\n",
        "\n",
        "obj2 = Base()\n",
        "\n",
        "print(\"Accessing protected member of obj1: \", obj1._a)\n",
        "print(\"Accessing protected member of obj2: \", obj2._a)\n"
      ],
      "metadata": {
        "colab": {
          "base_uri": "https://localhost:8080/"
        },
        "id": "jPbJJGnlZNgw",
        "outputId": "d1b7f500-8d0b-40d1-eec0-77dfee9f4140"
      },
      "execution_count": 7,
      "outputs": [
        {
          "output_type": "stream",
          "name": "stdout",
          "text": [
            "Calling protected member of base class:  2\n",
            "Calling modified protected member outside class:  3\n",
            "Accessing protected member of obj1:  3\n",
            "Accessing protected member of obj2:  2\n"
          ]
        }
      ]
    },
    {
      "cell_type": "markdown",
      "source": [
        "Q3. What is abc module in python? Why is it used?"
      ],
      "metadata": {
        "id": "Tj-T81xZZRFl"
      }
    },
    {
      "cell_type": "code",
      "source": [
        "\"\"\"The 'abc' module in Python library provides the infrastructure for defining custom abstract base classes. 'abc' works by marking methods of the base class as abstract. This is done by @absttractmethod decorator.\"\"\""
      ],
      "metadata": {
        "id": "FIRQv472ZXyi"
      },
      "execution_count": null,
      "outputs": []
    },
    {
      "cell_type": "markdown",
      "source": [
        "Q4. How can we achieve data abstraction?"
      ],
      "metadata": {
        "id": "jG_MT2-wZZl3"
      }
    },
    {
      "cell_type": "code",
      "source": [
        "#Data Abstraction in Python can be achieved through creating abstract classes and inheriting them later.\n",
        "import abc\n",
        "class Car():\n",
        "    @abc.abstractmethod\n",
        "    def mileage(self):\n",
        "        pass\n",
        "\n",
        "class Tesla(Car):\n",
        "    def mileage(self):\n",
        "        print(\"The mileage is 30kmph\")\n",
        "class Suzuki(Car):\n",
        "    def mileage(self):\n",
        "        print(\"The mileage is 25kmph \")\n",
        "class Duster(Car):\n",
        "     def mileage(self):\n",
        "          print(\"The mileage is 24kmph \")\n",
        "\n",
        "class Renault(Car):\n",
        "    def mileage(self):\n",
        "            print(\"The mileage is 27kmph \")\n",
        "\n",
        "# Driver code\n",
        "t= Tesla ()\n",
        "t.mileage()\n",
        "\n",
        "r = Renault()\n",
        "r.mileage()\n",
        "\n",
        "s = Suzuki()\n",
        "s.mileage()\n",
        "d = Duster()\n",
        "d.mileage()"
      ],
      "metadata": {
        "colab": {
          "base_uri": "https://localhost:8080/"
        },
        "id": "vM65WYL9ZhYg",
        "outputId": "6f301c03-535c-4d82-a126-3043099917be"
      },
      "execution_count": 9,
      "outputs": [
        {
          "output_type": "stream",
          "name": "stdout",
          "text": [
            "The mileage is 30kmph\n",
            "The mileage is 27kmph \n",
            "The mileage is 25kmph \n",
            "The mileage is 24kmph \n"
          ]
        }
      ]
    },
    {
      "cell_type": "markdown",
      "source": [
        "Q5. Can we create an instance of an abstract class? Explain your answer."
      ],
      "metadata": {
        "id": "epeYY-_1ZiDV"
      }
    },
    {
      "cell_type": "code",
      "source": [
        "\"\"\"No, you cannot create an instance of an abstract class in Python. An abstract class is a class that cannot be instantiated on its own and is meant to be subclassed by other classes.\"\"\"\n",
        "import abc\n",
        "class Shape:\n",
        "    @abc.abstractmethod\n",
        "    def area(self):\n",
        "        pass\n",
        "\n",
        "class Circle(Shape):\n",
        "    def __init__(self, radius):\n",
        "        self.radius = radius\n",
        "\n",
        "    def area(self):\n",
        "        return 3.14 * self.radius ** 2\n",
        "\n",
        "# Trying to create an instance of an abstract class will result in an error.\n",
        "#shape = shape() # This line will raise an error.\n"
      ],
      "metadata": {
        "id": "ZCLKNFvtZyIz"
      },
      "execution_count": null,
      "outputs": []
    },
    {
      "cell_type": "code",
      "source": [],
      "metadata": {
        "id": "naCN1nOelzYI"
      },
      "execution_count": null,
      "outputs": []
    }
  ]
}